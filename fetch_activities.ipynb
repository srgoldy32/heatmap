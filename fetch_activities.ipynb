{
 "cells": [
  {
   "cell_type": "code",
   "execution_count": 37,
   "metadata": {},
   "outputs": [],
   "source": [
    "import requests\n",
    "import sqlite3\n",
    "import time\n",
    "from datetime import datetime\n",
    "import dateutil.parser\n",
    "import json"
   ]
  },
  {
   "cell_type": "code",
   "execution_count": null,
   "metadata": {},
   "outputs": [],
   "source": [
    "# do this to get the first token \n",
    "\n",
    "# goto:\n",
    "# https://www.strava.com/oauth/authorize?client_id=121298&response_type=code&redirect_uri=http://localhost&approval_prompt=force&scope=activity:read_all\n",
    "\n",
    "\n",
    "\n",
    "# get auth code from resulting url\n",
    "# http://localhost/?state=&code=236616d076eecdbecd4147be329c46cefd1b2cd5&scope=read,activity:read_all\n",
    "\n",
    "\n",
    "# client_id = '121298'\n",
    "# client_secret = '003ac5e5560276a0a04412a5940d60aac9e0a6db'\n",
    "# auth_code = 'cb206c4bb0da0afcc808e9a80721704a0f57e477'\n",
    "\n",
    "# response = requests.post(\n",
    "#     url=\"https://www.strava.com/oauth/token\",\n",
    "#     data={\n",
    "#         'client_id': client_id,\n",
    "#         'client_secret': client_secret,\n",
    "#         'code': auth_code,\n",
    "#         'grant_type': 'authorization_code'\n",
    "#     }\n",
    "# )\n",
    "\n",
    "# tokens = response.json()\n",
    "\n",
    "# access_token = tokens['access_token']\n",
    "# refresh_token = tokens['refresh_token']\n",
    "\n"
   ]
  },
  {
   "cell_type": "code",
   "execution_count": 3,
   "metadata": {},
   "outputs": [],
   "source": [
    "# do this to refresh the token\n",
    "\n",
    "response = requests.post(\n",
    "    'https://www.strava.com/api/v3/oauth/token',\n",
    "    data={\n",
    "        'client_id': client_id,\n",
    "        'client_secret': client_secret,\n",
    "        'grant_type': 'refresh_token',\n",
    "        'refresh_token': refresh_token\n",
    "    }\n",
    ")\n",
    "\n",
    "tokens = response.json()\n",
    "access_token = tokens['access_token']\n",
    "refresh_token = tokens['refresh_token']\n",
    "headers = {\n",
    "    'Authorization': f'Bearer {access_token}'\n",
    "}"
   ]
  },
  {
   "cell_type": "code",
   "execution_count": 21,
   "metadata": {},
   "outputs": [
    {
     "name": "stdout",
     "output_type": "stream",
     "text": [
      "Status: 200\n",
      "Rate Limit: 200,2000\n",
      "Rate Usage: 8,12\n"
     ]
    }
   ],
   "source": [
    "# check usage - still do not know when things reset\n",
    "response = requests.get(\n",
    "    'https://www.strava.com/api/v3/athlete',\n",
    "    headers={'Authorization': f'Bearer {access_token}'}\n",
    ")\n",
    "\n",
    "print(\"Status:\", response.status_code)\n",
    "print(\"Rate Limit:\", response.headers.get('X-RateLimit-Limit'))\n",
    "print(\"Rate Usage:\", response.headers.get('X-RateLimit-Usage'))"
   ]
  },
  {
   "cell_type": "code",
   "execution_count": 46,
   "metadata": {},
   "outputs": [],
   "source": [
    "# roughly 13 api calls right now\n",
    "def check_for_new_activities(cache_location):\n",
    "    conn = sqlite3.connect(cache_location)\n",
    "    cursor = conn.cursor()\n",
    "    cursor.execute(\"SELECT id FROM activities\")\n",
    "    cached_ids = set(row[0] for row in cursor.fetchall())\n",
    "\n",
    "    cursor.execute(\"SELECT MAX(json_extract(data, '$.start_date')) FROM activities\")\n",
    "    latest_date = cursor.fetchone()[0]\n",
    "    if latest_date:\n",
    "        dt = dateutil.parser.isoparse(latest_date)\n",
    "        after_timestamp = int(dt.timestamp())\n",
    "    else:\n",
    "        after_timestamp = 0  # If no cache, get all activities\n",
    "\n",
    "    conn.close()\n",
    "\n",
    "    print(f\"{len(cached_ids)} activities already cached.\")\n",
    "\n",
    "    looking = True\n",
    "    new_ids = []\n",
    "    page = 1\n",
    "    calls = 0\n",
    "    while looking:\n",
    "        params = {\"per_page\": 200,\"page\": page,\"after\": after_timestamp,}\n",
    "        response = requests.get('https://www.strava.com/api/v3/athlete/activities', headers=headers, params=params)\n",
    "        calls += 1\n",
    "        if response.status_code != 200:\n",
    "            print(f\"API error: {response.status_code}\")\n",
    "            break\n",
    "        time.sleep(1)\n",
    "        activities = response.json()\n",
    "        if not activities:\n",
    "            looking = False\n",
    "            break  # No more activities\n",
    "        for act in activities:\n",
    "            activity_id = act['id']\n",
    "            if activity_id in cached_ids:\n",
    "                continue  # Skip if already cached\n",
    "            else:\n",
    "                new_ids.append(activity_id)\n",
    "        \n",
    "        page += 1\n",
    "            \n",
    "    print(f\"{len(new_ids)} new activities to add.\")\n",
    "    print(f'Burned {calls} API calls')\n",
    "    return new_ids\n"
   ]
  },
  {
   "cell_type": "code",
   "execution_count": 47,
   "metadata": {},
   "outputs": [],
   "source": [
    "def cache_new_activities(new_id_list,cache_location):\n",
    "    conn = sqlite3.connect(cache_location)\n",
    "    cursor = conn.cursor()\n",
    "    print(f'{len(new_id_list)} API calls - ballpark {len(new_id_list)} seconds')\n",
    "    for activity_id in new_id_list:\n",
    "        detail_url = f\"https://www.strava.com/api/v3/activities/{activity_id}\"\n",
    "        detail_response = requests.get(detail_url, headers=headers)\n",
    "\n",
    "        if detail_response.status_code != 200:\n",
    "            print(f\"Failed to fetch details for activity {activity_id}\")\n",
    "            continue\n",
    "        time.sleep(1) # be nice to the API\n",
    "        data = detail_response.json()\n",
    "\n",
    "        # --- 4. Save to DB ---\n",
    "        cursor.execute(\"INSERT INTO activities (id, data) VALUES (?, ?)\", (activity_id, json.dumps(data)))\n",
    "        conn.commit()\n",
    "        conn.close()"
   ]
  },
  {
   "cell_type": "code",
   "execution_count": 48,
   "metadata": {},
   "outputs": [
    {
     "name": "stdout",
     "output_type": "stream",
     "text": [
      "2296 activities already cached.\n",
      "0 new activities to add.\n",
      "Burned 1 API calls\n",
      "0 API calls - ballpark 0 seconds\n"
     ]
    }
   ],
   "source": [
    "# main driver - takes about 60sec\n",
    "new_ids = check_for_new_activities('strava_cache.db')\n",
    "cache_new_activities(new_ids,'strava_cache.db')\n"
   ]
  },
  {
   "cell_type": "code",
   "execution_count": null,
   "metadata": {},
   "outputs": [],
   "source": []
  },
  {
   "cell_type": "code",
   "execution_count": null,
   "metadata": {},
   "outputs": [],
   "source": []
  }
 ],
 "metadata": {
  "kernelspec": {
   "display_name": "venvPy13",
   "language": "python",
   "name": "python3"
  },
  "language_info": {
   "codemirror_mode": {
    "name": "ipython",
    "version": 3
   },
   "file_extension": ".py",
   "mimetype": "text/x-python",
   "name": "python",
   "nbconvert_exporter": "python",
   "pygments_lexer": "ipython3",
   "version": "3.13.3"
  }
 },
 "nbformat": 4,
 "nbformat_minor": 2
}
