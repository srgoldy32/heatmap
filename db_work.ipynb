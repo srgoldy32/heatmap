{
 "cells": [
  {
   "cell_type": "code",
   "execution_count": 44,
   "metadata": {},
   "outputs": [],
   "source": [
    "import sqlite3\n",
    "import json\n",
    "import pandas as pd\n",
    "import polyline\n",
    "import networkx as nx\n",
    "import numpy as np\n",
    "from sklearn.neighbors import BallTree\n"
   ]
  },
  {
   "cell_type": "code",
   "execution_count": 8,
   "metadata": {},
   "outputs": [],
   "source": [
    "# --- 1. Load activities from DB ---\n",
    "conn = sqlite3.connect(\"strava_cache.db\")\n",
    "cursor = conn.cursor()\n",
    "cursor.execute(\"SELECT id, data FROM activities\")\n",
    "rows = cursor.fetchall()"
   ]
  },
  {
   "cell_type": "code",
   "execution_count": 85,
   "metadata": {},
   "outputs": [],
   "source": [
    "# --- 2. Decode each activity's polyline ---\n",
    "activity_coords = {}  # id -> list of (lat, lon)\n",
    "for activity_id, data_json in rows[1000:2000]:\n",
    "    try:\n",
    "        data = json.loads(data_json)\n",
    "        poly = data.get(\"map\", {}).get(\"summary_polyline\")\n",
    "        if not poly:\n",
    "            continue\n",
    "        coords = polyline.decode(poly)\n",
    "        if coords:\n",
    "            activity_coords[activity_id] = coords\n",
    "    except Exception as e:\n",
    "        print(f\"Error with activity {activity_id}: {e}\")"
   ]
  },
  {
   "cell_type": "code",
   "execution_count": 86,
   "metadata": {},
   "outputs": [],
   "source": [
    "# --- 3. Compute centroids and extreme points for each activity ---\n",
    "def compute_extreme_points(coords):\n",
    "    \"\"\"Compute the extreme points: north, south, east, and west.\"\"\"\n",
    "    latitudes, longitudes = zip(*coords)  # Unzip the coordinates\n",
    "\n",
    "    # Calculate extreme points\n",
    "    N_ind = np.argmax(latitudes)\n",
    "    S_ind = np.argmin(latitudes)\n",
    "    E_ind = np.argmax(longitudes)\n",
    "    W_ind = np.argmin(longitudes)\n",
    "\n",
    "    north = coords[N_ind]\n",
    "    south = coords[S_ind]\n",
    "    east = coords[E_ind]\n",
    "    west = coords[W_ind]\n",
    "\n",
    "    start = coords[0]\n",
    "    finish = coords[-1]\n",
    "\n",
    "    return [north, south, east, west,start,finish]\n",
    "\n",
    "activity_key_points = {}\n",
    "activity_centroids = {}\n",
    "\n",
    "\n",
    "for aid, coords in activity_coords.items():\n",
    "    # Compute centroid (mean of latitudes and longitudes in radians)\n",
    "    centroid = np.mean(np.radians(coords), axis=0)\n",
    "    activity_centroids[aid] = centroid\n",
    "    \n",
    "    extreme_points = compute_extreme_points(coords)\n",
    "    activity_key_points[aid] = extreme_points\n",
    "\n",
    "activity_ids = list(activity_key_points.keys())\n",
    "centroid_array = np.array([activity_centroids[aid] for aid in activity_ids])  # lat, lon in radians"
   ]
  },
  {
   "cell_type": "code",
   "execution_count": 87,
   "metadata": {},
   "outputs": [],
   "source": [
    "# Define BallTree using centroids in radians\n",
    "tree = BallTree(centroid_array, metric='haversine')\n",
    "\n",
    "# --- 5. Build graph ---\n",
    "G = nx.Graph()\n",
    "\n",
    "# Add nodes\n",
    "for aid in activity_ids:\n",
    "    G.add_node(aid)\n",
    "\n"
   ]
  },
  {
   "cell_type": "code",
   "execution_count": 88,
   "metadata": {},
   "outputs": [
    {
     "name": "stdout",
     "output_type": "stream",
     "text": [
      "Graph has 982 nodes and 13559 edges.\n"
     ]
    }
   ],
   "source": [
    "# Define the search radius (400 meters = 0.4 km) in radians\n",
    "radius_km = 0.4\n",
    "radius_radians = radius_km / 6371.0088  # Earth's radius in km\n",
    "\n",
    "# Add edges based on proximity (both centroid and extreme points)\n",
    "for i, aid in enumerate(activity_ids):\n",
    "    # Check proximity using the centroid\n",
    "    indices = tree.query_radius([centroid_array[i]], r=radius_radians)[0]\n",
    "\n",
    "    # Add the activity itself to its own list of indices (for connecting to itself)\n",
    "    connected_nodes = set(indices)\n",
    "\n",
    "    # Check proximity using extreme points\n",
    "    extreme_points = activity_key_points[aid]\n",
    "\n",
    "    for extreme_point in extreme_points:\n",
    "        # Convert the extreme point into radians\n",
    "        extreme_point_radians = np.radians([extreme_point[0], extreme_point[1]])\n",
    "\n",
    "        # Query BallTree using the extreme point\n",
    "        indices_extreme = tree.query_radius([extreme_point_radians], r=radius_radians)[0]\n",
    "        connected_nodes.update(indices_extreme)\n",
    "\n",
    "    # Add edges between activities that are within the radius threshold\n",
    "    for j in connected_nodes:\n",
    "        if i != j:\n",
    "            other_aid = activity_ids[j]\n",
    "            G.add_edge(aid, other_aid)\n",
    "\n",
    "print(f\"Graph has {G.number_of_nodes()} nodes and {G.number_of_edges()} edges.\")\n"
   ]
  },
  {
   "cell_type": "code",
   "execution_count": 89,
   "metadata": {},
   "outputs": [
    {
     "name": "stderr",
     "output_type": "stream",
     "text": [
      "/var/folders/h6/5v65kvyj4_v_2p32lqgmvws40000gn/T/ipykernel_94630/2476156646.py:14: MatplotlibDeprecationWarning: The get_cmap function was deprecated in Matplotlib 3.7 and will be removed in 3.11. Use ``matplotlib.colormaps[name]`` or ``matplotlib.colormaps.get_cmap()`` or ``pyplot.get_cmap()`` instead.\n",
      "  colormap = cm.get_cmap('tab20', len(components))\n"
     ]
    },
    {
     "name": "stdout",
     "output_type": "stream",
     "text": [
      "Map saved to activity_graph_map.html\n"
     ]
    }
   ],
   "source": [
    "import folium\n",
    "import matplotlib.cm as cm\n",
    "import matplotlib.colors as colors\n",
    "\n",
    "# --- 1. Create map centered on mean lat/lon ---\n",
    "all_coords = [pt for coords in activity_coords.values() for pt in coords]\n",
    "mean_lat = sum(lat for lat, _ in all_coords) / len(all_coords)\n",
    "mean_lon = sum(lon for _, lon in all_coords) / len(all_coords)\n",
    "\n",
    "m = folium.Map(location=all_coords[-1], zoom_start=12,)\n",
    "\n",
    "# --- 2. Assign a color to each connected component ---\n",
    "components = list(nx.connected_components(G))\n",
    "colormap = cm.get_cmap('tab20', len(components))\n",
    "component_colors = {}\n",
    "\n",
    "for idx, comp in enumerate(components):\n",
    "    for aid in comp:\n",
    "        component_colors[aid] = colors.to_hex(colormap(idx))\n",
    "\n",
    "# --- 3. Draw each activity polyline ---\n",
    "for aid, coords in activity_coords.items():\n",
    "    folium.PolyLine(\n",
    "        coords,\n",
    "        color=component_colors.get(aid, \"#888\"),\n",
    "        weight=3,\n",
    "        opacity=0.7,\n",
    "        popup=f\"Activity {aid}\"\n",
    "    ).add_to(m)\n",
    "\n",
    "\n",
    "\n",
    "# --- 5. Save map ---\n",
    "m.save(\"activity_graph_map.html\")\n",
    "print(\"Map saved to activity_graph_map.html\")\n"
   ]
  },
  {
   "cell_type": "code",
   "execution_count": null,
   "metadata": {},
   "outputs": [
    {
     "name": "stdout",
     "output_type": "stream",
     "text": [
      "Graph has 2269 nodes and 48454 edges.\n"
     ]
    }
   ],
   "source": [
    "good_ids = [\n",
    "    11969746958,\n",
    "    12487635877,\n",
    "    11681065104\n",
    "]"
   ]
  },
  {
   "cell_type": "code",
   "execution_count": null,
   "metadata": {},
   "outputs": [],
   "source": [
    "# This is close - I think I just need to do a separate check points check for all the activites - hopefully this just fixes the centroid error\n",
    "# It would be cool to see if I could do it as a tree\n",
    "\n",
    "import sqlite3\n",
    "import json\n",
    "import polyline\n",
    "import numpy as np\n",
    "import networkx as nx\n",
    "from sklearn.neighbors import BallTree\n",
    "from math import radians\n",
    "\n",
    "# --- 1. Load activities from DB ---\n",
    "conn = sqlite3.connect(\"strava_cache.db\")\n",
    "cursor = conn.cursor()\n",
    "cursor.execute(\"SELECT id, data FROM activities\")\n",
    "rows = cursor.fetchall()\n",
    "\n",
    "# --- 2. Decode each activity's polyline ---\n",
    "activity_coords = {}  # id -> list of (lat, lon)\n",
    "for activity_id, data_json in rows:\n",
    "    try:\n",
    "        data = json.loads(data_json)\n",
    "        poly = data.get(\"map\", {}).get(\"summary_polyline\")\n",
    "        if not poly:\n",
    "            continue\n",
    "        coords = polyline.decode(poly)\n",
    "        if coords:\n",
    "            activity_coords[activity_id] = coords\n",
    "    except Exception as e:\n",
    "        print(f\"Error with activity {activity_id}: {e}\")\n",
    "\n",
    "# --- 3. Compute centroids and extreme points for each activity ---\n",
    "def compute_extreme_points(coords):\n",
    "    \"\"\"Compute the extreme points: north, south, east, and west.\"\"\"\n",
    "    latitudes, longitudes = zip(*coords)  # Unzip the coordinates\n",
    "\n",
    "    # Calculate extreme points\n",
    "    N_ind = np.argmax(latitudes)\n",
    "    S_ind = np.argmin(latitudes)\n",
    "    E_ind = np.argmax(longitudes)\n",
    "    W_ind = np.argmin(longitudes)\n",
    "\n",
    "    north = coords[N_ind]\n",
    "    south = coords[S_ind]\n",
    "    east = coords[E_ind]\n",
    "    west = coords[W_ind]\n",
    "\n",
    "    return north, south, east, west\n",
    "\n",
    "activity_centroids = {}\n",
    "activity_extremes = {}\n",
    "\n",
    "for aid, coords in activity_coords.items():\n",
    "    # Compute centroid (mean of latitudes and longitudes in radians)\n",
    "    centroid = np.mean(np.radians(coords), axis=0)\n",
    "    activity_centroids[aid] = centroid\n",
    "\n",
    "    # Compute extreme points (north, south, east, west)\n",
    "    extreme_points = compute_extreme_points(coords)\n",
    "    activity_extremes[aid] = extreme_points\n",
    "\n",
    "# --- 4. Prepare BallTree (using both centroids and extreme points) ---\n",
    "# Convert centroids to radians for BallTree calculation\n",
    "activity_ids = list(activity_centroids.keys())\n",
    "centroid_array = np.array([activity_centroids[aid] for aid in activity_ids])  # lat, lon in radians\n",
    "\n",
    "# Define BallTree using centroids in radians\n",
    "tree = BallTree(centroid_array, metric='haversine')\n",
    "\n",
    "# --- 5. Build graph ---\n",
    "G = nx.Graph()\n",
    "\n",
    "# Add nodes\n",
    "for aid in activity_ids:\n",
    "    G.add_node(aid)\n",
    "\n",
    "# Define the search radius (400 meters = 0.4 km) in radians\n",
    "radius_km = 0.4\n",
    "radius_radians = radius_km / 6371.0088  # Earth's radius in km\n",
    "\n",
    "# Add edges based on proximity (both centroid and extreme points)\n",
    "for i, aid in enumerate(activity_ids):\n",
    "    # Check proximity using the centroid\n",
    "    indices = tree.query_radius([centroid_array[i]], r=radius_radians)[0]\n",
    "\n",
    "    # Add the activity itself to its own list of indices (for connecting to itself)\n",
    "    connected_nodes = set(indices)\n",
    "\n",
    "    # Check proximity using extreme points\n",
    "    extreme_points = activity_extremes[aid]\n",
    "\n",
    "    for extreme_point in extreme_points:\n",
    "        # Convert the extreme point into radians\n",
    "        extreme_point_radians = np.radians([extreme_point[0], extreme_point[1]])\n",
    "\n",
    "        # Query BallTree using the extreme point\n",
    "        indices_extreme = tree.query_radius([extreme_point_radians], r=radius_radians)[0]\n",
    "        connected_nodes.update(indices_extreme)\n",
    "\n",
    "    # Add edges between activities that are within the radius threshold\n",
    "    for j in connected_nodes:\n",
    "        if i != j:\n",
    "            other_aid = activity_ids[j]\n",
    "            G.add_edge(aid, other_aid)\n",
    "\n",
    "print(f\"Graph has {G.number_of_nodes()} nodes and {G.number_of_edges()} edges.\")\n"
   ]
  },
  {
   "cell_type": "code",
   "execution_count": 7,
   "metadata": {},
   "outputs": [
    {
     "name": "stderr",
     "output_type": "stream",
     "text": [
      "/var/folders/h6/5v65kvyj4_v_2p32lqgmvws40000gn/T/ipykernel_94630/2690211405.py:14: MatplotlibDeprecationWarning: The get_cmap function was deprecated in Matplotlib 3.7 and will be removed in 3.11. Use ``matplotlib.colormaps[name]`` or ``matplotlib.colormaps.get_cmap()`` or ``pyplot.get_cmap()`` instead.\n",
      "  colormap = cm.get_cmap('tab20', len(components))\n"
     ]
    },
    {
     "name": "stdout",
     "output_type": "stream",
     "text": [
      "Map saved to activity_graph_map.html\n"
     ]
    }
   ],
   "source": [
    "import folium\n",
    "import matplotlib.cm as cm\n",
    "import matplotlib.colors as colors\n",
    "\n",
    "# --- 1. Create map centered on mean lat/lon ---\n",
    "all_coords = [pt for coords in activity_coords.values() for pt in coords]\n",
    "mean_lat = sum(lat for lat, _ in all_coords) / len(all_coords)\n",
    "mean_lon = sum(lon for _, lon in all_coords) / len(all_coords)\n",
    "\n",
    "m = folium.Map(location=all_coords[-1], zoom_start=12, tiles=\"cartodbpositron\")\n",
    "\n",
    "# --- 2. Assign a color to each connected component ---\n",
    "components = list(nx.connected_components(G))\n",
    "colormap = cm.get_cmap('tab20', len(components))\n",
    "component_colors = {}\n",
    "\n",
    "for idx, comp in enumerate(components):\n",
    "    for aid in comp:\n",
    "        component_colors[aid] = colors.to_hex(colormap(idx))\n",
    "\n",
    "# --- 3. Draw each activity polyline ---\n",
    "for aid, coords in activity_coords.items():\n",
    "    folium.PolyLine(\n",
    "        coords,\n",
    "        color=component_colors.get(aid, \"#888\"),\n",
    "        weight=3,\n",
    "        opacity=0.7,\n",
    "        popup=f\"Activity {aid}\"\n",
    "    ).add_to(m)\n",
    "\n",
    "\n",
    "\n",
    "# --- 5. Save map ---\n",
    "m.save(\"activity_graph_map.html\")\n",
    "print(\"Map saved to activity_graph_map.html\")\n"
   ]
  },
  {
   "cell_type": "code",
   "execution_count": 6,
   "metadata": {},
   "outputs": [
    {
     "data": {
      "text/plain": [
       "(39.78904, -105.09955)"
      ]
     },
     "execution_count": 6,
     "metadata": {},
     "output_type": "execute_result"
    }
   ],
   "source": [
    "all_coords[-1]"
   ]
  },
  {
   "cell_type": "code",
   "execution_count": null,
   "metadata": {},
   "outputs": [],
   "source": []
  },
  {
   "cell_type": "code",
   "execution_count": 16,
   "metadata": {},
   "outputs": [
    {
     "name": "stdout",
     "output_type": "stream",
     "text": [
      "((37.45579, -122.10128), (37.43145, -122.10526), (37.44911, -122.09056), (37.44034, -122.11356))\n"
     ]
    },
    {
     "data": {
      "text/plain": [
       "(37.45579, -122.10128)"
      ]
     },
     "execution_count": 16,
     "metadata": {},
     "output_type": "execute_result"
    }
   ],
   "source": []
  },
  {
   "cell_type": "code",
   "execution_count": null,
   "metadata": {},
   "outputs": [],
   "source": []
  }
 ],
 "metadata": {
  "kernelspec": {
   "display_name": "venvPy13",
   "language": "python",
   "name": "python3"
  },
  "language_info": {
   "codemirror_mode": {
    "name": "ipython",
    "version": 3
   },
   "file_extension": ".py",
   "mimetype": "text/x-python",
   "name": "python",
   "nbconvert_exporter": "python",
   "pygments_lexer": "ipython3",
   "version": "3.13.3"
  }
 },
 "nbformat": 4,
 "nbformat_minor": 2
}
