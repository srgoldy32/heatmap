{
 "cells": [
  {
   "cell_type": "code",
   "execution_count": 6,
   "metadata": {},
   "outputs": [],
   "source": [
    "import os\n",
    "import sqlite3\n",
    "import time\n",
    "import requests\n",
    "import json\n"
   ]
  },
  {
   "cell_type": "code",
   "execution_count": null,
   "metadata": {},
   "outputs": [],
   "source": [
    "# do this to get the first token \n",
    "\n",
    "# goto:\n",
    "# https://www.strava.com/oauth/authorize?client_id=121298&response_type=code&redirect_uri=http://localhost&approval_prompt=force&scope=activity:read_all\n",
    "\n",
    "\n",
    "\n",
    "# get auth code from resulting url\n",
    "# http://localhost/?state=&code=236616d076eecdbecd4147be329c46cefd1b2cd5&scope=read,activity:read_all\n",
    "\n",
    "\n",
    "client_id = '121298'\n",
    "client_secret = '003ac5e5560276a0a04412a5940d60aac9e0a6db'\n",
    "# auth_code = '223dd38817627ac8aa3125a199bf41a6422ab87c'\n",
    "\n",
    "# response = requests.post(\n",
    "#     url=\"https://www.strava.com/oauth/token\",\n",
    "#     data={\n",
    "#         'client_id': client_id,\n",
    "#         'client_secret': client_secret,\n",
    "#         'code': auth_code,\n",
    "#         'grant_type': 'authorization_code'\n",
    "#     }\n",
    "# )\n",
    "\n",
    "# tokens = response.json()\n",
    "\n",
    "# access_token = tokens['access_token']\n",
    "# refresh_token = tokens['refresh_token']\n",
    "\n"
   ]
  },
  {
   "cell_type": "code",
   "execution_count": 72,
   "metadata": {},
   "outputs": [],
   "source": [
    "# do this to refresh the token\n",
    "\n",
    "response = requests.post(\n",
    "    'https://www.strava.com/api/v3/oauth/token',\n",
    "    data={\n",
    "        'client_id': client_id,\n",
    "        'client_secret': client_secret,\n",
    "        'grant_type': 'refresh_token',\n",
    "        'refresh_token': refresh_token\n",
    "    }\n",
    ")\n",
    "\n",
    "tokens = response.json()\n",
    "access_token = tokens['access_token']\n",
    "refresh_token = tokens['refresh_token']\n",
    "headers = {\n",
    "    'Authorization': f'Bearer {access_token}'\n",
    "}"
   ]
  },
  {
   "cell_type": "code",
   "execution_count": 79,
   "metadata": {},
   "outputs": [
    {
     "name": "stdout",
     "output_type": "stream",
     "text": [
      "Status: 429\n",
      "Rate Limit: 200,2000\n",
      "Rate Usage: 7,1702\n"
     ]
    }
   ],
   "source": [
    "# check usage - still do not know when things reset\n",
    "response = requests.get(\n",
    "    'https://www.strava.com/api/v3/athlete',\n",
    "    headers={'Authorization': f'Bearer {access_token}'}\n",
    ")\n",
    "\n",
    "print(\"Status:\", response.status_code)\n",
    "print(\"Rate Limit:\", response.headers.get('X-RateLimit-Limit'))\n",
    "print(\"Rate Usage:\", response.headers.get('X-RateLimit-Usage'))\n",
    "\n"
   ]
  },
  {
   "cell_type": "code",
   "execution_count": 78,
   "metadata": {},
   "outputs": [
    {
     "data": {
      "text/plain": [
       "{'message': 'Rate Limit Exceeded',\n",
       " 'errors': [{'resource': 'Application',\n",
       "   'field': 'read rate limit',\n",
       "   'code': 'exceeded'}]}"
      ]
     },
     "execution_count": 78,
     "metadata": {},
     "output_type": "execute_result"
    }
   ],
   "source": [
    "page = 2\n",
    "response = requests.get(\n",
    "        f\"https://www.strava.com/api/v3/athlete/activities?page={page}&per_page=1\",\n",
    "        headers=headers\n",
    "    )\n",
    "data = response.json()\n",
    "data"
   ]
  },
  {
   "cell_type": "code",
   "execution_count": 27,
   "metadata": {},
   "outputs": [],
   "source": [
    "# make the db and functions\n",
    "DB_FILE = 'strava_cache.db'\n",
    "# === SETUP DATABASE ===\n",
    "conn = sqlite3.connect(DB_FILE)\n",
    "c = conn.cursor()\n",
    "\n",
    "# Create activity table\n",
    "c.execute('''\n",
    "CREATE TABLE IF NOT EXISTS activities (\n",
    "    id INTEGER PRIMARY KEY,\n",
    "    data TEXT\n",
    ")\n",
    "''')\n",
    "\n",
    "# Create stream table\n",
    "c.execute('''\n",
    "CREATE TABLE IF NOT EXISTS streams (\n",
    "    activity_id INTEGER PRIMARY KEY,\n",
    "    data TEXT\n",
    ")\n",
    "''')\n",
    "\n",
    "conn.commit()\n",
    "\n",
    "# === FUNCTIONS ===\n",
    "\n",
    "def activity_cached(activity_id):\n",
    "    c.execute('SELECT 1 FROM activities WHERE id = ?', (activity_id,))\n",
    "    return c.fetchone() is not None\n",
    "\n",
    "def stream_cached(activity_id):\n",
    "    c.execute('SELECT 1 FROM streams WHERE activity_id = ?', (activity_id,))\n",
    "    return c.fetchone() is not None\n",
    "\n",
    "def cache_activity(activity_id, data):\n",
    "    c.execute('INSERT OR REPLACE INTO activities (id, data) VALUES (?, ?)', (activity_id, json.dumps(data)))\n",
    "    conn.commit()\n",
    "\n",
    "def cache_stream(activity_id, data):\n",
    "    c.execute('INSERT OR REPLACE INTO streams (activity_id, data) VALUES (?, ?)', (activity_id, json.dumps(data)))\n",
    "    conn.commit()"
   ]
  },
  {
   "cell_type": "code",
   "execution_count": 58,
   "metadata": {},
   "outputs": [],
   "source": [
    "# fetch functions\n",
    "def fetch_activities(n):\n",
    "    activities = []\n",
    "    page = 1\n",
    "    per_page = 100\n",
    "\n",
    "    while len(activities) < n:\n",
    "        response = requests.get(\n",
    "            f'https://www.strava.com/api/v3/athlete/activities',\n",
    "            headers=headers,\n",
    "            params={'per_page': per_page, 'page': page}\n",
    "        )\n",
    "        time.sleep(1)  # respect rate limits\n",
    "        if response.status_code != 200:\n",
    "            print(\"Error fetching activities:\", response.text)\n",
    "            break\n",
    "\n",
    "        page_data = response.json()\n",
    "        if not page_data:\n",
    "            break\n",
    "\n",
    "        activities.extend(page_data)\n",
    "        page += 1\n",
    "\n",
    "    return activities[:n]\n",
    "\n",
    "def fetch_stream(activity_id):\n",
    "    response = requests.get(\n",
    "        f'https://www.strava.com/api/v3/activities/{activity_id}/streams',\n",
    "        headers=headers,\n",
    "        params={\"keys\": \"latlng\", \"key_by_type\": \"true\"}\n",
    "    )\n",
    "    if response.status_code == 200:\n",
    "        return response.json()\n",
    "    else:\n",
    "        print(f\"Failed to get stream for activity {activity_id}: {response.status_code}\")\n",
    "        return None"
   ]
  },
  {
   "cell_type": "code",
   "execution_count": 59,
   "metadata": {},
   "outputs": [
    {
     "name": "stdout",
     "output_type": "stream",
     "text": [
      "Fetching up to 50 activities...\n",
      "Error fetching activities: {\"message\":\"Rate Limit Exceeded\",\"errors\":[{\"resource\":\"Application\",\"field\":\"read rate limit\",\"code\":\"exceeded\"}]}\n",
      "Found 0 activities\n",
      "Done.\n"
     ]
    }
   ],
   "source": [
    "# I think I can run this to get and cache all of the activities in a database - still might have some issues with the rate...\n",
    "\n",
    "\n",
    "NUM_ACTIVITIES_TO_FETCH = 50\n",
    "\n",
    "print(f\"Fetching up to {NUM_ACTIVITIES_TO_FETCH} activities...\")\n",
    "activities = fetch_activities(NUM_ACTIVITIES_TO_FETCH)\n",
    "print(f\"Found {len(activities)} activities\")\n",
    "\n",
    "for act in activities:\n",
    "    act_id = act['id']\n",
    "    if not activity_cached(act_id):\n",
    "        cache_activity(act_id, act)\n",
    "        time.sleep(1)  # respect rate limits\n",
    "        print(f\"Cached activity {act_id}\")\n",
    "    else:\n",
    "        print(f\"Activity {act_id} already cached\")\n",
    "\n",
    "    if not stream_cached(act_id):\n",
    "        stream = fetch_stream(act_id)\n",
    "        if stream and 'latlng' in stream:\n",
    "            cache_stream(act_id, stream)\n",
    "            print(f\"Cached stream for {act_id}\")\n",
    "            time.sleep(1)  # respect rate limits\n",
    "    else:\n",
    "        print(f\"Stream for {act_id} already cached\")\n",
    "\n",
    "print(\"Done.\")\n",
    "conn.close()\n"
   ]
  },
  {
   "cell_type": "code",
   "execution_count": 65,
   "metadata": {},
   "outputs": [],
   "source": []
  },
  {
   "cell_type": "code",
   "execution_count": 66,
   "metadata": {},
   "outputs": [
    {
     "data": {
      "text/plain": [
       "{'message': 'Rate Limit Exceeded',\n",
       " 'errors': [{'resource': 'Application',\n",
       "   'field': 'read rate limit',\n",
       "   'code': 'exceeded'}]}"
      ]
     },
     "execution_count": 66,
     "metadata": {},
     "output_type": "execute_result"
    }
   ],
   "source": []
  },
  {
   "cell_type": "code",
   "execution_count": 14,
   "metadata": {},
   "outputs": [],
   "source": [
    "import folium\n",
    "from folium.plugins import HeatMap\n",
    "\n",
    "with open('data.json', 'r') as f:\n",
    "    all_coords = json.load(f)\n",
    "\n",
    "\n",
    "\n",
    "\n",
    "\n",
    "m = folium.Map(location=all_coords[0], zoom_start=12)\n",
    "HeatMap(all_coords, \n",
    "        radius=4,\n",
    "        blur=2,\n",
    "        min_opacity=0.5,\n",
    "        max_zoom=18,).add_to(m)\n",
    "\n",
    "\n",
    "\n",
    "m.save('strava_heatmap.html')\n"
   ]
  },
  {
   "cell_type": "code",
   "execution_count": 15,
   "metadata": {},
   "outputs": [],
   "source": [
    "with open('data.json', 'r') as f:\n",
    "    all_coords = json.load(f)\n",
    "\n",
    "\n",
    "\n",
    "m = folium.Map(location=[51.5, -0.1], zoom_start=12)  # adjust center as needed\n",
    "    \n",
    "folium.PolyLine(\n",
    "    all_coords, \n",
    "    color=\"blue\", \n",
    "    weight=2,  # thinner lines\n",
    "    opacity=0.7\n",
    ").add_to(m)\n",
    "\n",
    "m.save('sharp_map.html')\n"
   ]
  },
  {
   "cell_type": "code",
   "execution_count": 69,
   "metadata": {},
   "outputs": [
    {
     "data": {
      "text/plain": [
       "True"
      ]
     },
     "execution_count": 69,
     "metadata": {},
     "output_type": "execute_result"
    }
   ],
   "source": []
  },
  {
   "cell_type": "code",
   "execution_count": null,
   "metadata": {},
   "outputs": [],
   "source": []
  }
 ],
 "metadata": {
  "kernelspec": {
   "display_name": "venvPy13",
   "language": "python",
   "name": "python3"
  },
  "language_info": {
   "codemirror_mode": {
    "name": "ipython",
    "version": 3
   },
   "file_extension": ".py",
   "mimetype": "text/x-python",
   "name": "python",
   "nbconvert_exporter": "python",
   "pygments_lexer": "ipython3",
   "version": "3.13.3"
  }
 },
 "nbformat": 4,
 "nbformat_minor": 2
}
